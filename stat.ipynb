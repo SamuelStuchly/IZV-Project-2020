{
 "metadata": {
  "language_info": {
   "codemirror_mode": {
    "name": "ipython",
    "version": 3
   },
   "file_extension": ".py",
   "mimetype": "text/x-python",
   "name": "python",
   "nbconvert_exporter": "python",
   "pygments_lexer": "ipython3",
   "version": "3.9.1-final"
  },
  "orig_nbformat": 2,
  "kernelspec": {
   "name": "python3",
   "display_name": "Python 3",
   "language": "python"
  }
 },
 "nbformat": 4,
 "nbformat_minor": 2,
 "cells": [
  {
   "source": [
    "# Test hypotezy"
   ],
   "cell_type": "markdown",
   "metadata": {}
  },
  {
   "source": [
    " V tomto notebooku sa snazime s $95$% istotou dokazat nasledujucu hypotezu: \n",
    "   ### \"Pokud viník nehody byl pod silným vlivem alkoholu, došlo častěji k těžkým zdravotním následkům.\"\n",
    "Využijeme k tomu **$\\chi^2$ chí-kvadrát test** (chi-square test)."
   ],
   "cell_type": "markdown",
   "metadata": {}
  },
  {
   "source": [
    "Nacitame potrebne kniznice."
   ],
   "cell_type": "markdown",
   "metadata": {}
  },
  {
   "cell_type": "code",
   "execution_count": 1,
   "metadata": {},
   "outputs": [],
   "source": [
    "import pandas as pd\n",
    "import scipy.stats"
   ]
  },
  {
   "source": [
    "Nacitame si dataframe zo suboru a ponechame si iba stlpce, s ktorymi budeme narabat."
   ],
   "cell_type": "markdown",
   "metadata": {}
  },
  {
   "cell_type": "code",
   "execution_count": 2,
   "metadata": {},
   "outputs": [
    {
     "output_type": "execute_result",
     "data": {
      "text/plain": [
       "        p11  p13a  p13b\n",
       "0         2     0     0\n",
       "1         2     0     0\n",
       "2         2     0     0\n",
       "3         9     0     0\n",
       "4         0     0     0\n",
       "...     ...   ...   ...\n",
       "487156    0     0     0\n",
       "487157    2     0     0\n",
       "487158    0     0     0\n",
       "487159    2     0     0\n",
       "487160    0     0     0\n",
       "\n",
       "[487161 rows x 3 columns]"
      ],
      "text/html": "<div>\n<style scoped>\n    .dataframe tbody tr th:only-of-type {\n        vertical-align: middle;\n    }\n\n    .dataframe tbody tr th {\n        vertical-align: top;\n    }\n\n    .dataframe thead th {\n        text-align: right;\n    }\n</style>\n<table border=\"1\" class=\"dataframe\">\n  <thead>\n    <tr style=\"text-align: right;\">\n      <th></th>\n      <th>p11</th>\n      <th>p13a</th>\n      <th>p13b</th>\n    </tr>\n  </thead>\n  <tbody>\n    <tr>\n      <th>0</th>\n      <td>2</td>\n      <td>0</td>\n      <td>0</td>\n    </tr>\n    <tr>\n      <th>1</th>\n      <td>2</td>\n      <td>0</td>\n      <td>0</td>\n    </tr>\n    <tr>\n      <th>2</th>\n      <td>2</td>\n      <td>0</td>\n      <td>0</td>\n    </tr>\n    <tr>\n      <th>3</th>\n      <td>9</td>\n      <td>0</td>\n      <td>0</td>\n    </tr>\n    <tr>\n      <th>4</th>\n      <td>0</td>\n      <td>0</td>\n      <td>0</td>\n    </tr>\n    <tr>\n      <th>...</th>\n      <td>...</td>\n      <td>...</td>\n      <td>...</td>\n    </tr>\n    <tr>\n      <th>487156</th>\n      <td>0</td>\n      <td>0</td>\n      <td>0</td>\n    </tr>\n    <tr>\n      <th>487157</th>\n      <td>2</td>\n      <td>0</td>\n      <td>0</td>\n    </tr>\n    <tr>\n      <th>487158</th>\n      <td>0</td>\n      <td>0</td>\n      <td>0</td>\n    </tr>\n    <tr>\n      <th>487159</th>\n      <td>2</td>\n      <td>0</td>\n      <td>0</td>\n    </tr>\n    <tr>\n      <th>487160</th>\n      <td>0</td>\n      <td>0</td>\n      <td>0</td>\n    </tr>\n  </tbody>\n</table>\n<p>487161 rows × 3 columns</p>\n</div>"
     },
     "metadata": {},
     "execution_count": 2
    }
   ],
   "source": [
    "df = pd.read_pickle(\"accidents.pkl.gz\")\n",
    "df = df[[\"p11\", \"p13a\", \"p13b\"]]\n",
    "df"
   ]
  },
  {
   "source": [
    "Z DataFramu odstranime nehody, kde bol vodic pod vplyvom drog."
   ],
   "cell_type": "markdown",
   "metadata": {}
  },
  {
   "cell_type": "code",
   "execution_count": 3,
   "metadata": {},
   "outputs": [
    {
     "output_type": "execute_result",
     "data": {
      "text/plain": [
       "        p11  p13a  p13b\n",
       "0         2     0     0\n",
       "1         2     0     0\n",
       "2         2     0     0\n",
       "3         9     0     0\n",
       "4         0     0     0\n",
       "...     ...   ...   ...\n",
       "487156    0     0     0\n",
       "487157    2     0     0\n",
       "487158    0     0     0\n",
       "487159    2     0     0\n",
       "487160    0     0     0\n",
       "\n",
       "[485683 rows x 3 columns]"
      ],
      "text/html": "<div>\n<style scoped>\n    .dataframe tbody tr th:only-of-type {\n        vertical-align: middle;\n    }\n\n    .dataframe tbody tr th {\n        vertical-align: top;\n    }\n\n    .dataframe thead th {\n        text-align: right;\n    }\n</style>\n<table border=\"1\" class=\"dataframe\">\n  <thead>\n    <tr style=\"text-align: right;\">\n      <th></th>\n      <th>p11</th>\n      <th>p13a</th>\n      <th>p13b</th>\n    </tr>\n  </thead>\n  <tbody>\n    <tr>\n      <th>0</th>\n      <td>2</td>\n      <td>0</td>\n      <td>0</td>\n    </tr>\n    <tr>\n      <th>1</th>\n      <td>2</td>\n      <td>0</td>\n      <td>0</td>\n    </tr>\n    <tr>\n      <th>2</th>\n      <td>2</td>\n      <td>0</td>\n      <td>0</td>\n    </tr>\n    <tr>\n      <th>3</th>\n      <td>9</td>\n      <td>0</td>\n      <td>0</td>\n    </tr>\n    <tr>\n      <th>4</th>\n      <td>0</td>\n      <td>0</td>\n      <td>0</td>\n    </tr>\n    <tr>\n      <th>...</th>\n      <td>...</td>\n      <td>...</td>\n      <td>...</td>\n    </tr>\n    <tr>\n      <th>487156</th>\n      <td>0</td>\n      <td>0</td>\n      <td>0</td>\n    </tr>\n    <tr>\n      <th>487157</th>\n      <td>2</td>\n      <td>0</td>\n      <td>0</td>\n    </tr>\n    <tr>\n      <th>487158</th>\n      <td>0</td>\n      <td>0</td>\n      <td>0</td>\n    </tr>\n    <tr>\n      <th>487159</th>\n      <td>2</td>\n      <td>0</td>\n      <td>0</td>\n    </tr>\n    <tr>\n      <th>487160</th>\n      <td>0</td>\n      <td>0</td>\n      <td>0</td>\n    </tr>\n  </tbody>\n</table>\n<p>485683 rows × 3 columns</p>\n</div>"
     },
     "metadata": {},
     "execution_count": 3
    }
   ],
   "source": [
    "df2 = df[(df['p11'] != 4) & (df['p11'] != 5)]\n",
    "df2"
   ]
  },
  {
   "source": [
    "Kedze pracujeme s **$\\chi^2$ testom** potrebujeme mat dva stlpce kategorickych dat, na ktorych budeme zistovat ich korelaciu. \n",
    "\n",
    "Pridame dva stlpce s boolovou hotnotou, reprezentujuce ci bol vodic pod plyvom alkoholu a ci doslo pri nehode k zraneniu alebo smrti."
   ],
   "cell_type": "markdown",
   "metadata": {}
  },
  {
   "cell_type": "code",
   "execution_count": 4,
   "metadata": {},
   "outputs": [
    {
     "output_type": "execute_result",
     "data": {
      "text/plain": [
       "        p11  p13a  p13b  drunk  injured\n",
       "0         2     0     0  False    False\n",
       "1         2     0     0  False    False\n",
       "2         2     0     0  False    False\n",
       "3         9     0     0   True    False\n",
       "4         0     0     0  False    False\n",
       "...     ...   ...   ...    ...      ...\n",
       "487156    0     0     0  False    False\n",
       "487157    2     0     0  False    False\n",
       "487158    0     0     0  False    False\n",
       "487159    2     0     0  False    False\n",
       "487160    0     0     0  False    False\n",
       "\n",
       "[485683 rows x 5 columns]"
      ],
      "text/html": "<div>\n<style scoped>\n    .dataframe tbody tr th:only-of-type {\n        vertical-align: middle;\n    }\n\n    .dataframe tbody tr th {\n        vertical-align: top;\n    }\n\n    .dataframe thead th {\n        text-align: right;\n    }\n</style>\n<table border=\"1\" class=\"dataframe\">\n  <thead>\n    <tr style=\"text-align: right;\">\n      <th></th>\n      <th>p11</th>\n      <th>p13a</th>\n      <th>p13b</th>\n      <th>drunk</th>\n      <th>injured</th>\n    </tr>\n  </thead>\n  <tbody>\n    <tr>\n      <th>0</th>\n      <td>2</td>\n      <td>0</td>\n      <td>0</td>\n      <td>False</td>\n      <td>False</td>\n    </tr>\n    <tr>\n      <th>1</th>\n      <td>2</td>\n      <td>0</td>\n      <td>0</td>\n      <td>False</td>\n      <td>False</td>\n    </tr>\n    <tr>\n      <th>2</th>\n      <td>2</td>\n      <td>0</td>\n      <td>0</td>\n      <td>False</td>\n      <td>False</td>\n    </tr>\n    <tr>\n      <th>3</th>\n      <td>9</td>\n      <td>0</td>\n      <td>0</td>\n      <td>True</td>\n      <td>False</td>\n    </tr>\n    <tr>\n      <th>4</th>\n      <td>0</td>\n      <td>0</td>\n      <td>0</td>\n      <td>False</td>\n      <td>False</td>\n    </tr>\n    <tr>\n      <th>...</th>\n      <td>...</td>\n      <td>...</td>\n      <td>...</td>\n      <td>...</td>\n      <td>...</td>\n    </tr>\n    <tr>\n      <th>487156</th>\n      <td>0</td>\n      <td>0</td>\n      <td>0</td>\n      <td>False</td>\n      <td>False</td>\n    </tr>\n    <tr>\n      <th>487157</th>\n      <td>2</td>\n      <td>0</td>\n      <td>0</td>\n      <td>False</td>\n      <td>False</td>\n    </tr>\n    <tr>\n      <th>487158</th>\n      <td>0</td>\n      <td>0</td>\n      <td>0</td>\n      <td>False</td>\n      <td>False</td>\n    </tr>\n    <tr>\n      <th>487159</th>\n      <td>2</td>\n      <td>0</td>\n      <td>0</td>\n      <td>False</td>\n      <td>False</td>\n    </tr>\n    <tr>\n      <th>487160</th>\n      <td>0</td>\n      <td>0</td>\n      <td>0</td>\n      <td>False</td>\n      <td>False</td>\n    </tr>\n  </tbody>\n</table>\n<p>485683 rows × 5 columns</p>\n</div>"
     },
     "metadata": {},
     "execution_count": 4
    }
   ],
   "source": [
    "df2[\"drunk\"] = (df2['p11'] >= 7)\n",
    "df2[\"injured\"] = (df2['p13a'] + df2['p13b'] > 0)\n",
    "df2"
   ]
  },
  {
   "source": [
    "Vytvorime si kontingencnu tabulku pre vsetky styri kombinacie vstupov."
   ],
   "cell_type": "markdown",
   "metadata": {}
  },
  {
   "cell_type": "code",
   "execution_count": 5,
   "metadata": {},
   "outputs": [
    {
     "output_type": "execute_result",
     "data": {
      "text/plain": [
       "injured   False  True \n",
       "drunk                 \n",
       "False    457528  10777\n",
       "True      16492    886"
      ],
      "text/html": "<div>\n<style scoped>\n    .dataframe tbody tr th:only-of-type {\n        vertical-align: middle;\n    }\n\n    .dataframe tbody tr th {\n        vertical-align: top;\n    }\n\n    .dataframe thead th {\n        text-align: right;\n    }\n</style>\n<table border=\"1\" class=\"dataframe\">\n  <thead>\n    <tr style=\"text-align: right;\">\n      <th>injured</th>\n      <th>False</th>\n      <th>True</th>\n    </tr>\n    <tr>\n      <th>drunk</th>\n      <th></th>\n      <th></th>\n    </tr>\n  </thead>\n  <tbody>\n    <tr>\n      <th>False</th>\n      <td>457528</td>\n      <td>10777</td>\n    </tr>\n    <tr>\n      <th>True</th>\n      <td>16492</td>\n      <td>886</td>\n    </tr>\n  </tbody>\n</table>\n</div>"
     },
     "metadata": {},
     "execution_count": 5
    }
   ],
   "source": [
    "ct = pd.crosstab(df2['drunk'], df2['injured'])\n",
    "ct"
   ]
  },
  {
   "source": [
    "Pomocou kontingencnej tabulky si vypocitame vsetky dolezite hodnoty. Ako napriklad p_value a chí-kvadrát statistiku. Tieto hodnoty sa daju peken vypocitat podla vzorcov, no existuje na to funckia z kniznice `scipy`, ktora nam poskytuje vsetky potrebne vysledne hodnoty."
   ],
   "cell_type": "markdown",
   "metadata": {}
  },
  {
   "cell_type": "code",
   "execution_count": 6,
   "metadata": {},
   "outputs": [
    {
     "output_type": "execute_result",
     "data": {
      "text/plain": [
       "(558.1749514234125,\n",
       " 2.0971505700338304e-123,\n",
       " 1,\n",
       " array([[4.57059308e+05, 1.12456916e+04],\n",
       "        [1.69606916e+04, 4.17308438e+02]]))"
      ]
     },
     "metadata": {},
     "execution_count": 6
    }
   ],
   "source": [
    "scipy.stats.chi2_contingency(ct)"
   ]
  },
  {
   "source": [
    "Hodnota p_value $2.09\\cdot10^{-123}$ je vyrazne mensia než $0.05$. Proto zamietame nulovu hypotézu a mozeme jednoznacne prehlasit, že sa tu vyskytuje silna statisticky významná korelace mezi pomerom vodicov s vysokym alkoholom v krvi a zavaznym zraneniam alebo usmrteniu pri nehodach nimi  zapricinenych. \n"
   ],
   "cell_type": "markdown",
   "metadata": {}
  },
  {
   "source": [
    "Aj ked je pravdou ze korelace dvoch premennych neznamena aj kauzalitu. V tomto pripade sa vyskytuje velmi silne statisticky vyznamna korelace a  selsky rozum nam hovori, ze je to aj pripad kauzaity. "
   ],
   "cell_type": "markdown",
   "metadata": {}
  }
 ]
}